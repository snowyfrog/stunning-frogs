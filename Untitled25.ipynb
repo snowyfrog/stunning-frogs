{
 "cells": [
  {
   "cell_type": "code",
   "execution_count": 1,
   "metadata": {},
   "outputs": [],
   "source": [
    "import pandas as pd"
   ]
  },
  {
   "cell_type": "code",
   "execution_count": 2,
   "metadata": {},
   "outputs": [],
   "source": [
    "csv_input = pd.DataFrame(pd.read_csv(filepath_or_buffer=\"C:/Users/Winte/Downloads/Book2.csv\", encoding=\"ms932\", sep=\",\"))\n",
    "#print(csv_input) non dataframe object"
   ]
  },
  {
   "cell_type": "code",
   "execution_count": 3,
   "metadata": {},
   "outputs": [
    {
     "name": "stderr",
     "output_type": "stream",
     "text": [
      "[nltk_data] Downloading package punkt to\n",
      "[nltk_data]     C:\\Users\\Winte\\AppData\\Roaming\\nltk_data...\n",
      "[nltk_data]   Package punkt is already up-to-date!\n"
     ]
    },
    {
     "data": {
      "text/plain": [
       "True"
      ]
     },
     "execution_count": 3,
     "metadata": {},
     "output_type": "execute_result"
    }
   ],
   "source": [
    "import nltk\n",
    "nltk.download('punkt')"
   ]
  },
  {
   "cell_type": "code",
   "execution_count": 4,
   "metadata": {},
   "outputs": [
    {
     "name": "stderr",
     "output_type": "stream",
     "text": [
      "[nltk_data] Downloading package wordnet to\n",
      "[nltk_data]     C:\\Users\\Winte\\AppData\\Roaming\\nltk_data...\n",
      "[nltk_data]   Package wordnet is already up-to-date!\n"
     ]
    },
    {
     "data": {
      "text/plain": [
       "True"
      ]
     },
     "execution_count": 4,
     "metadata": {},
     "output_type": "execute_result"
    }
   ],
   "source": [
    "import string\n",
    "from nltk.tokenize import RegexpTokenizer\n",
    "from nltk.stem import WordNetLemmatizer\n",
    "from nltk import pos_tag\n",
    "from nltk.corpus import wordnet\n",
    "nltk.download(\"wordnet\")"
   ]
  },
  {
   "cell_type": "code",
   "execution_count": 5,
   "metadata": {},
   "outputs": [
    {
     "name": "stdout",
     "output_type": "stream",
     "text": [
      "                                         Review Text\n",
      "0  Absolutely wonderful - silky and sexy and comf...\n",
      "1  Love this dress! it sooo pretty. i happened to...\n",
      "2  I had such high hopes for this dress and reall...\n",
      "3  I love, love, love this jumpsuit. it fun, flir...\n",
      "4  This shirt is very flattering to all due to th...\n",
      "5  I love tracy reese dresses, but this one is no...\n",
      "6  I aded this in my basket at hte last mintue to...\n",
      "7  I ordered this in carbon for store pick up, an...\n",
      "8  I love this dress. i usually get an xs but it ...\n",
      "9  I'm 5\"5' and 125 lbs. i ordered the s petite t...\n"
     ]
    }
   ],
   "source": [
    "df_t = pd.DataFrame(csv_input['Review Text'])\n",
    "df_ind = pd.DataFrame(csv_input['Recommended IND'])\n",
    "print(df_t.head(10))\n",
    "l_nonreco = csv_input.loc[csv_input['Recommended IND'] == 0, ['Review Text']]\n",
    "l_reco = csv_input.loc[csv_input['Recommended IND'] == 1, ['Review Text']]\n",
    "\n",
    "#print(l_nonreco.head(10))\n",
    "\n",
    "list_nonreco=l_nonreco.values.flatten()\n",
    "#list_reco = list(chain(l_reco))\n",
    "#print(list_nonreco)\n"
   ]
  },
  {
   "cell_type": "code",
   "execution_count": null,
   "metadata": {},
   "outputs": [],
   "source": [
    "#LISTING WORDS CONNECTION\n",
    "\n",
    "import sklearn\n",
    "from sklearn.feature_extraction.text import CountVectorizer\n",
    "cv = CountVectorizer(analyzer='word', ngram_range=(1, 3), min_df=0.1, max_df=0.5)\n",
    "\n",
    "count_nonreco = cv.fit_transform(list_nonreco)\n",
    "print(cv.get_feature_names())\n",
    "\n"
   ]
  },
  {
   "cell_type": "code",
   "execution_count": 6,
   "metadata": {},
   "outputs": [],
   "source": [
    "\n",
    "#removing punctuations\n",
    "string.punctuation=('!\"#$%&()*+,-./:;<=>?@[\\]^_`{|}~')\n",
    "\n",
    "def remove_punctuation(text):\n",
    "    no_punct = \"\".join([i for i in text if i not in string.punctuation])\n",
    "    return no_punct\n",
    "\n",
    "\n",
    "df_t[\"Review Text\"] = df_t[\"Review Text\"].apply(lambda x: remove_punctuation(x))\n",
    "\n",
    "#df_t.head()"
   ]
  },
  {
   "cell_type": "code",
   "execution_count": 7,
   "metadata": {
    "scrolled": true
   },
   "outputs": [
    {
     "name": "stdout",
     "output_type": "stream",
     "text": [
      "                                         Review Text\n",
      "0  [absolutely, wonderful, silky, and, sexy, and,...\n",
      "1  [love, this, dress, it, sooo, pretty, i, happe...\n",
      "2  [i, had, such, high, hopes, for, this, dress, ...\n",
      "3  [i, love, love, love, this, jumpsuit, it, fun,...\n",
      "4  [this, shirt, is, very, flattering, to, all, d...\n",
      "5  [i, love, tracy, reese, dresses, but, this, on...\n",
      "6  [i, aded, this, in, my, basket, at, hte, last,...\n",
      "7  [i, ordered, this, in, carbon, for, store, pic...\n",
      "8  [i, love, this, dress, i, usually, get, an, xs...\n",
      "9  [i, m, 55, and, 125, lbs, i, ordered, the, s, ...\n"
     ]
    }
   ],
   "source": [
    "#TOKENIZING\n",
    "tokenizer = RegexpTokenizer('\\w+|\\$[\\d\\.]+')\n",
    "df_t[\"Review Text\"] = df_t[\"Review Text\"].apply(lambda x: tokenizer.tokenize(x.lower()))\n",
    "print(df_t.head(10))"
   ]
  },
  {
   "cell_type": "code",
   "execution_count": 9,
   "metadata": {},
   "outputs": [
    {
     "data": {
      "text/html": [
       "<div>\n",
       "<style scoped>\n",
       "    .dataframe tbody tr th:only-of-type {\n",
       "        vertical-align: middle;\n",
       "    }\n",
       "\n",
       "    .dataframe tbody tr th {\n",
       "        vertical-align: top;\n",
       "    }\n",
       "\n",
       "    .dataframe thead th {\n",
       "        text-align: right;\n",
       "    }\n",
       "</style>\n",
       "<table border=\"1\" class=\"dataframe\">\n",
       "  <thead>\n",
       "    <tr style=\"text-align: right;\">\n",
       "      <th></th>\n",
       "      <th>Review Text</th>\n",
       "    </tr>\n",
       "  </thead>\n",
       "  <tbody>\n",
       "    <tr>\n",
       "      <th>0</th>\n",
       "      <td>[absolutely, wonderful, silky, and, sexy, and,...</td>\n",
       "    </tr>\n",
       "    <tr>\n",
       "      <th>1</th>\n",
       "      <td>[love, this, dress, it, sooo, pretty, i, happe...</td>\n",
       "    </tr>\n",
       "    <tr>\n",
       "      <th>2</th>\n",
       "      <td>[i, have, such, high, hope, for, this, dress, ...</td>\n",
       "    </tr>\n",
       "    <tr>\n",
       "      <th>3</th>\n",
       "      <td>[i, love, love, love, this, jumpsuit, it, fun,...</td>\n",
       "    </tr>\n",
       "    <tr>\n",
       "      <th>4</th>\n",
       "      <td>[this, shirt, be, very, flatter, to, all, due,...</td>\n",
       "    </tr>\n",
       "    <tr>\n",
       "      <th>5</th>\n",
       "      <td>[i, love, tracy, reese, dress, but, this, one,...</td>\n",
       "    </tr>\n",
       "    <tr>\n",
       "      <th>6</th>\n",
       "      <td>[i, aded, this, in, my, basket, at, hte, last,...</td>\n",
       "    </tr>\n",
       "    <tr>\n",
       "      <th>7</th>\n",
       "      <td>[i, order, this, in, carbon, for, store, pick,...</td>\n",
       "    </tr>\n",
       "    <tr>\n",
       "      <th>8</th>\n",
       "      <td>[i, love, this, dress, i, usually, get, an, x,...</td>\n",
       "    </tr>\n",
       "    <tr>\n",
       "      <th>9</th>\n",
       "      <td>[i, m, 55, and, 125, lb, i, order, the, s, pet...</td>\n",
       "    </tr>\n",
       "  </tbody>\n",
       "</table>\n",
       "</div>"
      ],
      "text/plain": [
       "                                         Review Text\n",
       "0  [absolutely, wonderful, silky, and, sexy, and,...\n",
       "1  [love, this, dress, it, sooo, pretty, i, happe...\n",
       "2  [i, have, such, high, hope, for, this, dress, ...\n",
       "3  [i, love, love, love, this, jumpsuit, it, fun,...\n",
       "4  [this, shirt, be, very, flatter, to, all, due,...\n",
       "5  [i, love, tracy, reese, dress, but, this, one,...\n",
       "6  [i, aded, this, in, my, basket, at, hte, last,...\n",
       "7  [i, order, this, in, carbon, for, store, pick,...\n",
       "8  [i, love, this, dress, i, usually, get, an, x,...\n",
       "9  [i, m, 55, and, 125, lb, i, order, the, s, pet..."
      ]
     },
     "execution_count": 9,
     "metadata": {},
     "output_type": "execute_result"
    }
   ],
   "source": [
    "def get_wordnet_pos(word):\n",
    "    \"\"\"Map POS tag to first character lemmatize() accepts\"\"\"\n",
    "    tag = nltk.pos_tag([word])[0][1][0].upper()\n",
    "    tag_dict = {\"J\": wordnet.ADJ,\n",
    "                \"N\": wordnet.NOUN,\n",
    "                \"V\": wordnet.VERB,\n",
    "                \"R\": wordnet.ADV}\n",
    "    return tag_dict.get(tag, wordnet.NOUN)\n",
    "\n",
    "lemmatizer = WordNetLemmatizer()\n",
    "\n",
    "df_t[\"Review Text\"] = df_t[\"Review Text\"].apply(lambda x: \n",
    "                                                [lemmatizer.lemmatize(w, get_wordnet_pos(w)) for w in x])\n",
    "\n",
    "df_t.head(10)"
   ]
  },
  {
   "cell_type": "code",
   "execution_count": 11,
   "metadata": {},
   "outputs": [
    {
     "name": "stderr",
     "output_type": "stream",
     "text": [
      "[nltk_data] Downloading package stopwords to\n",
      "[nltk_data]     C:\\Users\\Winte\\AppData\\Roaming\\nltk_data...\n",
      "[nltk_data]   Package stopwords is already up-to-date!\n"
     ]
    },
    {
     "data": {
      "text/html": [
       "<div>\n",
       "<style scoped>\n",
       "    .dataframe tbody tr th:only-of-type {\n",
       "        vertical-align: middle;\n",
       "    }\n",
       "\n",
       "    .dataframe tbody tr th {\n",
       "        vertical-align: top;\n",
       "    }\n",
       "\n",
       "    .dataframe thead th {\n",
       "        text-align: right;\n",
       "    }\n",
       "</style>\n",
       "<table border=\"1\" class=\"dataframe\">\n",
       "  <thead>\n",
       "    <tr style=\"text-align: right;\">\n",
       "      <th></th>\n",
       "      <th>Review Text</th>\n",
       "    </tr>\n",
       "  </thead>\n",
       "  <tbody>\n",
       "    <tr>\n",
       "      <th>0</th>\n",
       "      <td>[absolutely, wonderful, silky, sexy, comfortable]</td>\n",
       "    </tr>\n",
       "    <tr>\n",
       "      <th>1</th>\n",
       "      <td>[love, dress, sooo, pretty, happen, find, stor...</td>\n",
       "    </tr>\n",
       "    <tr>\n",
       "      <th>2</th>\n",
       "      <td>[high, hope, dress, really, want, work, initia...</td>\n",
       "    </tr>\n",
       "    <tr>\n",
       "      <th>3</th>\n",
       "      <td>[love, love, love, jumpsuit, fun, flirty, fabu...</td>\n",
       "    </tr>\n",
       "    <tr>\n",
       "      <th>4</th>\n",
       "      <td>[shirt, flatter, due, adjustable, front, tie, ...</td>\n",
       "    </tr>\n",
       "  </tbody>\n",
       "</table>\n",
       "</div>"
      ],
      "text/plain": [
       "                                         Review Text\n",
       "0  [absolutely, wonderful, silky, sexy, comfortable]\n",
       "1  [love, dress, sooo, pretty, happen, find, stor...\n",
       "2  [high, hope, dress, really, want, work, initia...\n",
       "3  [love, love, love, jumpsuit, fun, flirty, fabu...\n",
       "4  [shirt, flatter, due, adjustable, front, tie, ..."
      ]
     },
     "execution_count": 11,
     "metadata": {},
     "output_type": "execute_result"
    }
   ],
   "source": [
    "#REMOVE STOPWORDS\n",
    "##IF SUCCESSED CHANGED ALL DF NAME BELOW\n",
    "\n",
    "from nltk.corpus import stopwords\n",
    "nltk.download(\"stopwords\")\n",
    "stop_words= stopwords.words(\"english\")\n",
    "\n",
    "stop_words = [x for x in stop_words if x not in [\"not\",\"no\"]]\n",
    "\n",
    "#print(stop_words)\n",
    "\n",
    "df_t[\"Review Text\"] = df_t[\"Review Text\"].apply(lambda x: [item for item in x if item not in stop_words])\n",
    "df_t.head()\n",
    "#df_t.to_csv(\"test1.csv\")"
   ]
  },
  {
   "cell_type": "code",
   "execution_count": 24,
   "metadata": {},
   "outputs": [
    {
     "name": "stdout",
     "output_type": "stream",
     "text": [
      "                                          Review Text  Recommend IND\n",
      "2   [high, hope, dress, really, want, work, initia...              0\n",
      "5   [love, tracy, reese, dress, one, not, petite, ...              0\n",
      "10  [dress, run, small, esp, zipper, area, run, or...              0\n",
      "22  [first, not, pullover, style, side, zipper, wo...              0\n",
      "25  [love, material, didnt, really, look, long, dr...              0\n",
      "                                         Review Text  Recommend IND\n",
      "0  [absolutely, wonderful, silky, sexy, comfortable]              1\n",
      "1  [love, dress, sooo, pretty, happen, find, stor...              1\n",
      "3  [love, love, love, jumpsuit, fun, flirty, fabu...              1\n",
      "4  [shirt, flatter, due, adjustable, front, tie, ...              1\n",
      "6  [aded, basket, hte, last, mintue, see, would, ...              1\n"
     ]
    }
   ],
   "source": [
    "#concating\n",
    "df_t[\"Recommend IND\"] = df_ind\n",
    "\n",
    "df_nonreco = df_t[df_t[\"Recommend IND\"] == 0]\n",
    "df_reco = df_t[df_t[\"Recommend IND\"] == 1]\n",
    "\n",
    "df_nonreco.to_csv(\"test1.csv\")\n",
    "df_reco.to_csv(\"test2.csv\")\n"
   ]
  },
  {
   "cell_type": "code",
   "execution_count": 25,
   "metadata": {},
   "outputs": [
    {
     "data": {
      "text/html": [
       "<div>\n",
       "<style scoped>\n",
       "    .dataframe tbody tr th:only-of-type {\n",
       "        vertical-align: middle;\n",
       "    }\n",
       "\n",
       "    .dataframe tbody tr th {\n",
       "        vertical-align: top;\n",
       "    }\n",
       "\n",
       "    .dataframe thead th {\n",
       "        text-align: right;\n",
       "    }\n",
       "</style>\n",
       "<table border=\"1\" class=\"dataframe\">\n",
       "  <thead>\n",
       "    <tr style=\"text-align: right;\">\n",
       "      <th></th>\n",
       "      <th>Unnamed: 0</th>\n",
       "      <th>Review Text</th>\n",
       "      <th>Unnamed: 2</th>\n",
       "      <th>Unnamed: 3</th>\n",
       "      <th>Unnamed: 4</th>\n",
       "      <th>Unnamed: 5</th>\n",
       "      <th>Unnamed: 6</th>\n",
       "      <th>Unnamed: 7</th>\n",
       "      <th>Unnamed: 8</th>\n",
       "      <th>Unnamed: 9</th>\n",
       "      <th>...</th>\n",
       "      <th>Unnamed: 51</th>\n",
       "      <th>Unnamed: 52</th>\n",
       "      <th>Unnamed: 53</th>\n",
       "      <th>Unnamed: 54</th>\n",
       "      <th>Unnamed: 55</th>\n",
       "      <th>Unnamed: 56</th>\n",
       "      <th>Unnamed: 57</th>\n",
       "      <th>Unnamed: 58</th>\n",
       "      <th>Unnamed: 59</th>\n",
       "      <th>Unnamed: 60</th>\n",
       "    </tr>\n",
       "  </thead>\n",
       "  <tbody>\n",
       "    <tr>\n",
       "      <th>0</th>\n",
       "      <td>2</td>\n",
       "      <td>['high'</td>\n",
       "      <td>'hope'</td>\n",
       "      <td>'dress'</td>\n",
       "      <td>'really'</td>\n",
       "      <td>'want'</td>\n",
       "      <td>'work'</td>\n",
       "      <td>'initially'</td>\n",
       "      <td>'order'</td>\n",
       "      <td>'petite'</td>\n",
       "      <td>...</td>\n",
       "      <td>NaN</td>\n",
       "      <td>NaN</td>\n",
       "      <td>NaN</td>\n",
       "      <td>NaN</td>\n",
       "      <td>NaN</td>\n",
       "      <td>NaN</td>\n",
       "      <td>NaN</td>\n",
       "      <td>NaN</td>\n",
       "      <td>NaN</td>\n",
       "      <td>NaN</td>\n",
       "    </tr>\n",
       "    <tr>\n",
       "      <th>1</th>\n",
       "      <td>5</td>\n",
       "      <td>['love'</td>\n",
       "      <td>'tracy'</td>\n",
       "      <td>'reese'</td>\n",
       "      <td>'dress'</td>\n",
       "      <td>'one'</td>\n",
       "      <td>'not'</td>\n",
       "      <td>'petite'</td>\n",
       "      <td>'5'</td>\n",
       "      <td>'foot'</td>\n",
       "      <td>...</td>\n",
       "      <td>NaN</td>\n",
       "      <td>NaN</td>\n",
       "      <td>NaN</td>\n",
       "      <td>NaN</td>\n",
       "      <td>NaN</td>\n",
       "      <td>NaN</td>\n",
       "      <td>NaN</td>\n",
       "      <td>NaN</td>\n",
       "      <td>NaN</td>\n",
       "      <td>NaN</td>\n",
       "    </tr>\n",
       "    <tr>\n",
       "      <th>2</th>\n",
       "      <td>10</td>\n",
       "      <td>['dress'</td>\n",
       "      <td>'run'</td>\n",
       "      <td>'small'</td>\n",
       "      <td>'esp'</td>\n",
       "      <td>'zipper'</td>\n",
       "      <td>'area'</td>\n",
       "      <td>'run'</td>\n",
       "      <td>'order'</td>\n",
       "      <td>'sp'</td>\n",
       "      <td>...</td>\n",
       "      <td>NaN</td>\n",
       "      <td>NaN</td>\n",
       "      <td>NaN</td>\n",
       "      <td>NaN</td>\n",
       "      <td>NaN</td>\n",
       "      <td>NaN</td>\n",
       "      <td>NaN</td>\n",
       "      <td>NaN</td>\n",
       "      <td>NaN</td>\n",
       "      <td>NaN</td>\n",
       "    </tr>\n",
       "    <tr>\n",
       "      <th>3</th>\n",
       "      <td>22</td>\n",
       "      <td>['first'</td>\n",
       "      <td>'not'</td>\n",
       "      <td>'pullover'</td>\n",
       "      <td>'style'</td>\n",
       "      <td>'side'</td>\n",
       "      <td>'zipper'</td>\n",
       "      <td>'would'</td>\n",
       "      <td>'not'</td>\n",
       "      <td>'purchase'</td>\n",
       "      <td>...</td>\n",
       "      <td>NaN</td>\n",
       "      <td>NaN</td>\n",
       "      <td>NaN</td>\n",
       "      <td>NaN</td>\n",
       "      <td>NaN</td>\n",
       "      <td>NaN</td>\n",
       "      <td>NaN</td>\n",
       "      <td>NaN</td>\n",
       "      <td>NaN</td>\n",
       "      <td>NaN</td>\n",
       "    </tr>\n",
       "    <tr>\n",
       "      <th>4</th>\n",
       "      <td>25</td>\n",
       "      <td>['love'</td>\n",
       "      <td>'material'</td>\n",
       "      <td>'didnt'</td>\n",
       "      <td>'really'</td>\n",
       "      <td>'look'</td>\n",
       "      <td>'long'</td>\n",
       "      <td>'dress'</td>\n",
       "      <td>'purchase'</td>\n",
       "      <td>'large'</td>\n",
       "      <td>...</td>\n",
       "      <td>NaN</td>\n",
       "      <td>NaN</td>\n",
       "      <td>NaN</td>\n",
       "      <td>NaN</td>\n",
       "      <td>NaN</td>\n",
       "      <td>NaN</td>\n",
       "      <td>NaN</td>\n",
       "      <td>NaN</td>\n",
       "      <td>NaN</td>\n",
       "      <td>NaN</td>\n",
       "    </tr>\n",
       "  </tbody>\n",
       "</table>\n",
       "<p>5 rows × 61 columns</p>\n",
       "</div>"
      ],
      "text/plain": [
       "   Unnamed: 0 Review Text   Unnamed: 2   Unnamed: 3 Unnamed: 4 Unnamed: 5  \\\n",
       "0           2     ['high'       'hope'      'dress'   'really'     'want'   \n",
       "1           5     ['love'      'tracy'      'reese'    'dress'      'one'   \n",
       "2          10    ['dress'        'run'      'small'      'esp'   'zipper'   \n",
       "3          22    ['first'        'not'   'pullover'    'style'     'side'   \n",
       "4          25     ['love'   'material'      'didnt'   'really'     'look'   \n",
       "\n",
       "  Unnamed: 6    Unnamed: 7   Unnamed: 8   Unnamed: 9  ... Unnamed: 51  \\\n",
       "0     'work'   'initially'      'order'     'petite'  ...         NaN   \n",
       "1      'not'      'petite'          '5'       'foot'  ...         NaN   \n",
       "2     'area'         'run'      'order'         'sp'  ...         NaN   \n",
       "3   'zipper'       'would'        'not'   'purchase'  ...         NaN   \n",
       "4     'long'       'dress'   'purchase'      'large'  ...         NaN   \n",
       "\n",
       "  Unnamed: 52 Unnamed: 53 Unnamed: 54 Unnamed: 55 Unnamed: 56 Unnamed: 57  \\\n",
       "0         NaN         NaN         NaN         NaN         NaN         NaN   \n",
       "1         NaN         NaN         NaN         NaN         NaN         NaN   \n",
       "2         NaN         NaN         NaN         NaN         NaN         NaN   \n",
       "3         NaN         NaN         NaN         NaN         NaN         NaN   \n",
       "4         NaN         NaN         NaN         NaN         NaN         NaN   \n",
       "\n",
       "  Unnamed: 58 Unnamed: 59 Unnamed: 60  \n",
       "0         NaN         NaN         NaN  \n",
       "1         NaN         NaN         NaN  \n",
       "2         NaN         NaN         NaN  \n",
       "3         NaN         NaN         NaN  \n",
       "4         NaN         NaN         NaN  \n",
       "\n",
       "[5 rows x 61 columns]"
      ]
     },
     "execution_count": 25,
     "metadata": {},
     "output_type": "execute_result"
    }
   ],
   "source": [
    "#COUNTING WORDS\n",
    "df_nonrecowords =pd.DataFrame(pd.read_csv(filepath_or_buffer=\"C:/Users/Winte/Downloads/test1.csv\", encoding=\"ms932\", sep=\",\"))\n",
    "\n",
    "df_nonrecowords.head()\n",
    "#print(df_non_recommendwords['Review Text'].value_counts())\n",
    "#print(pd.DataFrame(l_reco.value_counts()).head())"
   ]
  },
  {
   "cell_type": "code",
   "execution_count": null,
   "metadata": {},
   "outputs": [],
   "source": []
  },
  {
   "cell_type": "code",
   "execution_count": null,
   "metadata": {},
   "outputs": [],
   "source": []
  },
  {
   "cell_type": "code",
   "execution_count": null,
   "metadata": {},
   "outputs": [],
   "source": []
  },
  {
   "cell_type": "code",
   "execution_count": null,
   "metadata": {},
   "outputs": [],
   "source": []
  },
  {
   "cell_type": "code",
   "execution_count": null,
   "metadata": {},
   "outputs": [],
   "source": []
  }
 ],
 "metadata": {
  "kernelspec": {
   "display_name": "Python 3",
   "language": "python",
   "name": "python3"
  },
  "language_info": {
   "codemirror_mode": {
    "name": "ipython",
    "version": 3
   },
   "file_extension": ".py",
   "mimetype": "text/x-python",
   "name": "python",
   "nbconvert_exporter": "python",
   "pygments_lexer": "ipython3",
   "version": "3.7.3"
  }
 },
 "nbformat": 4,
 "nbformat_minor": 2
}
